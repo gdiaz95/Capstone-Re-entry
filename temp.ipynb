{
 "cells": [
  {
   "cell_type": "code",
   "execution_count": 12,
   "id": "0c5f9ef2",
   "metadata": {},
   "outputs": [],
   "source": [
    "import pandas as pd\n",
    "import numpy as np"
   ]
  },
  {
   "cell_type": "code",
   "execution_count": 9,
   "id": "04af9256",
   "metadata": {},
   "outputs": [],
   "source": [
    "data = pd.read_csv('./Data/raw/apollo_cfd_database-001.csv')"
   ]
  },
  {
   "cell_type": "code",
   "execution_count": 15,
   "id": "bbafc140",
   "metadata": {},
   "outputs": [
    {
     "name": "stdout",
     "output_type": "stream",
     "text": [
      "          X         Y         Z       pw (Pa)     qw (W/m^2)        Me  \\\n",
      "0  0.017768  0.003489 -0.407755  64489.349983  497625.036467  0.454910   \n",
      "1  0.018617  0.007022 -0.417330  64611.153940  498418.814300  0.451899   \n",
      "2  0.015687  0.003484 -0.383248  64163.104160  495351.845000  0.462855   \n",
      "3  0.016301  0.006972 -0.390625  64263.850973  496055.340900  0.460389   \n",
      "4  0.014133  0.003485 -0.363827  63903.617037  493426.773433  0.469249   \n",
      "\n",
      "   delta (m)  theta (m)    Re-theta  tauw (Pa)  mach (-)  velocity (m/s)  \\\n",
      "0   0.006833   0.000982  188.672182  39.628433  14.16745          4500.0   \n",
      "1   0.006820   0.000980  187.407496  39.410061  14.16745          4500.0   \n",
      "2   0.006867   0.000986  192.028006  40.138121  14.16745          4500.0   \n",
      "3   0.006857   0.000985  190.994027  39.990073  14.16745          4500.0   \n",
      "4   0.006893   0.000989  194.737028  40.464771  14.16745          4500.0   \n",
      "\n",
      "   density (kg/m^3)  aoa (degrees)  dynamic_pressure (Pa)  \n",
      "0          0.003851          154.0           38991.469837  \n",
      "1          0.003851          154.0           38991.469837  \n",
      "2          0.003851          154.0           38991.469837  \n",
      "3          0.003851          154.0           38991.469837  \n",
      "4          0.003851          154.0           38991.469837  \n",
      "(9282560, 15)\n"
     ]
    }
   ],
   "source": [
    "print(data.head())\n",
    "print(data.shape)"
   ]
  },
  {
   "cell_type": "code",
   "execution_count": 14,
   "id": "bc53c6e8",
   "metadata": {},
   "outputs": [
    {
     "name": "stdout",
     "output_type": "stream",
     "text": [
      "<class 'pandas.core.frame.DataFrame'>\n",
      "RangeIndex: 9282560 entries, 0 to 9282559\n",
      "Data columns (total 15 columns):\n",
      " #   Column                 Dtype  \n",
      "---  ------                 -----  \n",
      " 0   X                      float64\n",
      " 1   Y                      float64\n",
      " 2   Z                      float64\n",
      " 3   pw (Pa)                float64\n",
      " 4   qw (W/m^2)             float64\n",
      " 5   Me                     float64\n",
      " 6   delta (m)              float64\n",
      " 7   theta (m)              float64\n",
      " 8   Re-theta               float64\n",
      " 9   tauw (Pa)              float64\n",
      " 10  mach (-)               float64\n",
      " 11  velocity (m/s)         float64\n",
      " 12  density (kg/m^3)       float64\n",
      " 13  aoa (degrees)          float64\n",
      " 14  dynamic_pressure (Pa)  float64\n",
      "dtypes: float64(15)\n",
      "memory usage: 1.0 GB\n",
      "None\n"
     ]
    }
   ],
   "source": [
    "print(data.info())"
   ]
  },
  {
   "cell_type": "code",
   "execution_count": 18,
   "id": "02ce3427",
   "metadata": {},
   "outputs": [
    {
     "name": "stdout",
     "output_type": "stream",
     "text": [
      "Exact value for X is: 0.0177679144566666\n",
      "Exact value for Y is: 0.0034887452733334\n",
      "Exact value for Z is: -0.4077547718666667\n",
      "\n",
      "             pw (Pa)    qw (W/m^2)        Me  delta (m)  theta (m)  \\\n",
      "0       64489.349983  4.976250e+05  0.454910   0.006833   0.000982   \n",
      "50176   13190.812790  1.372326e+06  0.598826   0.019072   0.004627   \n",
      "100352  63649.573150  2.160699e+06  0.554274   0.009372   0.001745   \n",
      "150528  30593.114200  3.509052e+05  0.504273   0.009718   0.001435   \n",
      "200704  38830.217003  1.904902e+06  0.574316   0.012156   0.002475   \n",
      "\n",
      "          Re-theta  tauw (Pa)   mach (-)  velocity (m/s)  density (kg/m^3)  \\\n",
      "0       188.672182  39.628433  14.167450          4500.0          0.003851   \n",
      "50176    74.333234  40.144363  34.428650         10500.0          0.000149   \n",
      "100352  162.883418  73.794949  27.289638          9000.0          0.000978   \n",
      "150528  148.788355  29.486618  13.788210          4500.0          0.001881   \n",
      "200704  127.986959  61.396137  29.420906          9500.0          0.000537   \n",
      "\n",
      "        aoa (degrees)  dynamic_pressure (Pa)  \n",
      "0               154.0           38991.469837  \n",
      "50176           152.0            8232.467608  \n",
      "100352          152.0           39589.765294  \n",
      "150528          152.0           19048.054327  \n",
      "200704          152.0           24217.868842  \n",
      "(185, 12)\n"
     ]
    }
   ],
   "source": [
    "first_row = data.iloc[0]\n",
    "\n",
    "# 2. Extract the exact values for X, Y, and Z from that row\n",
    "valor_x = first_row['X']\n",
    "valor_y = first_row['Y']\n",
    "valor_z = first_row['Z']\n",
    "\n",
    "# Optional: Print the exact values to see if they have more decimals\n",
    "print(f\"Exact value for X is: {valor_x}\")\n",
    "print(f\"Exact value for Y is: {valor_y}\")\n",
    "print(f\"Exact value for Z is: {valor_z}\\n\")\n",
    "\n",
    "# 3. Use these exact, programmatically-obtained values in the filter\n",
    "dataperpoint = data[\n",
    "    (data['X'] == valor_x) &\n",
    "    (data['Y'] == valor_y) &\n",
    "    (data['Z'] == valor_z)\n",
    "]\n",
    "\n",
    "columns_to_drop = ['X', 'Y', 'Z']\n",
    "\n",
    "# Use the .drop() method to remove them\n",
    "dataperpoint = dataperpoint.drop(columns=columns_to_drop)\n",
    "\n",
    "# Display the first few rows to confirm the columns are gone\n",
    "print(dataperpoint.head())\n",
    "print(dataperpoint.shape)"
   ]
  },
  {
   "cell_type": "code",
   "execution_count": null,
   "id": "5b9854ea",
   "metadata": {},
   "outputs": [
    {
     "name": "stdout",
     "output_type": "stream",
     "text": [
      "\n",
      "Row at index 16:\n",
      "pw (Pa)                  14027.127593\n",
      "qw (W/m^2)               88328.714340\n",
      "Me                           0.436523\n",
      "delta (m)                    0.010947\n",
      "theta (m)                    0.001397\n",
      "Re-theta                   109.458090\n",
      "tauw (Pa)                   12.568612\n",
      "mach (-)                     9.192140\n",
      "velocity (m/s)            3000.000000\n",
      "density (kg/m^3)             0.001881\n",
      "aoa (degrees)              154.000000\n",
      "dynamic_pressure (Pa)     8465.801923\n",
      "Name: 802816, dtype: float64\n"
     ]
    }
   ],
   "source": [
    "index = 16\n",
    "row = dataperpoint.iloc[index]\n",
    "print(f\"\\nRow at index {index}:\\n{row} For the whole shell\\n\")"
   ]
  },
  {
   "cell_type": "code",
   "execution_count": null,
   "id": "f33f473a",
   "metadata": {},
   "outputs": [],
   "source": []
  }
 ],
 "metadata": {
  "kernelspec": {
   "display_name": "captsone-re-entry-py3.12 (3.12.3)",
   "language": "python",
   "name": "python3"
  },
  "language_info": {
   "codemirror_mode": {
    "name": "ipython",
    "version": 3
   },
   "file_extension": ".py",
   "mimetype": "text/x-python",
   "name": "python",
   "nbconvert_exporter": "python",
   "pygments_lexer": "ipython3",
   "version": "3.12.3"
  }
 },
 "nbformat": 4,
 "nbformat_minor": 5
}
